{
 "cells": [
  {
   "metadata": {
    "ExecuteTime": {
     "end_time": "2025-01-12T21:32:06.692088Z",
     "start_time": "2025-01-12T21:32:06.569088Z"
    }
   },
   "cell_type": "code",
   "source": [
    "%load_ext autoreload\n",
    "%autoreload 2"
   ],
   "id": "23816db5f6a3226a",
   "outputs": [],
   "execution_count": 38
  },
  {
   "cell_type": "code",
   "id": "initial_id",
   "metadata": {
    "collapsed": true,
    "ExecuteTime": {
     "end_time": "2025-01-12T21:32:54.009071Z",
     "start_time": "2025-01-12T21:32:53.888928Z"
    }
   },
   "source": [
    "import preprocess\n",
    "import xgboost as xgb\n",
    "from preprocess import DataProcessor\n",
    "from xgboost import cv, DMatrix, train, XGBRegressor\n",
    "from sklearn.model_selection import KFold, RandomizedSearchCV\n",
    "from sklearn.metrics import mean_squared_error, r2_score\n",
    "import pandas as pd\n",
    "import numpy as np\n",
    "from xgboost_visualizer import visualize_xgboost_tree, visualize_tree_with_networkx\n",
    "# File paths\n",
    "f_path = r\"C:\\Users\\demir\\OneDrive\\Desktop\\MSc Thesis\\Data\\features.csv\"\n",
    "l_path = r\"C:\\Users\\demir\\OneDrive\\Desktop\\MSc Thesis\\Data\\labels.csv\"\n",
    "\n",
    "# Load data and combine together the devolatile rate and fuel chars and kinetic parameters\n",
    "data_processor = preprocess.DataProcessor(f_path, l_path)\n",
    "features, labels = data_processor.load_data()\n",
    "combined_data = data_processor.preprocess_data(features, labels)\n",
    "\n",
    "# For mixed fuels calculate weighted fuel characteristics\n",
    "feature_engineering = preprocess.FeatureEngineering(combined_data)\n",
    "final_data_weighted = feature_engineering.calculate_weighted_characteristics()\n",
    "\n",
    "# Split dataset into mixed_fuels and biomass_only datasets\n",
    "mixed_fuels = feature_engineering.mixed_fuels()\n",
    "biomass_fuels = feature_engineering.biomass_fuels()\n",
    "\n",
    "mixed_fuels = preprocess.OutlierRemoval(mixed_fuels, 'devol_yield').filter_outliers()\n",
    "biomass_fuels = preprocess.OutlierRemoval(biomass_fuels, 'devol_yield').filter_outliers()\n",
    "\n",
    "y = final_data_weighted['devol_yield']\n",
    "y = pd.DataFrame(y)\n",
    "X = final_data_weighted.drop(columns=['devol_yield']).iloc[:, 1:]\n",
    "\n",
    "# Preparing data using the data preparation class\n",
    "data_prep = preprocess.DataPreparation(X, y)\n",
    "\n",
    "# Splitting the data\n",
    "sd = data_prep.split_data()\n",
    "\n",
    "\n"
   ],
   "outputs": [],
   "execution_count": 41
  },
  {
   "metadata": {
    "ExecuteTime": {
     "end_time": "2025-01-12T21:33:25.920794Z",
     "start_time": "2025-01-12T21:33:25.801055Z"
    }
   },
   "cell_type": "code",
   "source": "data_prep.split_data()[0]",
   "id": "a059021eda0384a4",
   "outputs": [
    {
     "data": {
      "text/plain": [
       "array([[-1.05301236, -1.08242409, -0.36103883, ..., -2.06932444,\n",
       "        -0.272374  , -0.15179149],\n",
       "       [-1.05301236, -1.08242409, -0.36103883, ..., -2.06932444,\n",
       "        -0.272374  , -0.15179149],\n",
       "       [-1.05301236, -1.08242409, -0.36103883, ..., -2.06932444,\n",
       "        -0.272374  , -0.15179149],\n",
       "       ...,\n",
       "       [ 0.99008975, -0.96747913,  1.95859247, ..., -1.19079467,\n",
       "        -0.31401562,  2.16349054],\n",
       "       [ 0.99008975, -0.96747913,  1.95859247, ..., -1.19079467,\n",
       "        -0.31401562,  2.16349054],\n",
       "       [ 0.99008975, -0.96747913,  1.95859247, ..., -1.19079467,\n",
       "        -0.31401562,  2.16349054]])"
      ]
     },
     "execution_count": 44,
     "metadata": {},
     "output_type": "execute_result"
    }
   ],
   "execution_count": 44
  },
  {
   "metadata": {},
   "cell_type": "code",
   "outputs": [],
   "execution_count": null,
   "source": "",
   "id": "aad3866eebe7af12"
  }
 ],
 "metadata": {
  "kernelspec": {
   "display_name": "Python 3",
   "language": "python",
   "name": "python3"
  },
  "language_info": {
   "codemirror_mode": {
    "name": "ipython",
    "version": 2
   },
   "file_extension": ".py",
   "mimetype": "text/x-python",
   "name": "python",
   "nbconvert_exporter": "python",
   "pygments_lexer": "ipython2",
   "version": "2.7.6"
  }
 },
 "nbformat": 4,
 "nbformat_minor": 5
}
